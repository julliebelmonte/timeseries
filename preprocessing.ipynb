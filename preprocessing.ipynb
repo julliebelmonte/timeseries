{
 "cells": [
  {
   "cell_type": "code",
   "execution_count": 1,
   "id": "f80fca01",
   "metadata": {},
   "outputs": [],
   "source": [
    "import pandas as pd"
   ]
  },
  {
   "cell_type": "code",
   "execution_count": 3,
   "id": "6d0290cb",
   "metadata": {},
   "outputs": [],
   "source": [
    "df = pd.read_excel(\"finland_data.xlsx\")"
   ]
  },
  {
   "cell_type": "code",
   "execution_count": null,
   "id": "e5141a6c",
   "metadata": {},
   "outputs": [],
   "source": [
    "df['field'].value_counts()"
   ]
  },
  {
   "cell_type": "code",
   "execution_count": null,
   "id": "1e8fca2c",
   "metadata": {},
   "outputs": [],
   "source": [
    "traducoes = {\n",
    "    'Total': 'Total',\n",
    "    'A post-comprehensive level qualification': 'Qualificação de nível pós-abrangente',\n",
    "    'Generic programmes and qualifications': 'Programas e qualificações genéricas',\n",
    "    'Education': 'Educação',\n",
    "    'Arts and humanities': 'Artes e humanidades',\n",
    "    'Social sciences, journalism and information': 'Ciências sociais, jornalismo e informação',\n",
    "    'Business, administration and law': 'Negócios, administração e direito',\n",
    "    'Natural sciences, mathematics and statistics': 'Ciências naturais, matemática e estatística',\n",
    "    'Information and Communication Technologies (ICT)': 'Tecnologias de Informação e Comunicação (TIC)',\n",
    "    'Engineering, manufacturing and construction': 'Engenharia, manufatura e construção',\n",
    "    'Agriculture, forestry, fisheries and veterinary': 'Agricultura, silvicultura, pesca e veterinária',\n",
    "    'Health and welfare': 'Saúde e bem-estar',\n",
    "    'Services': 'Serviços',\n",
    "    'Basic education': 'Educação básica',\n",
    "    'Unknown': 'Desconhecido'\n",
    "}\n",
    "\n",
    "def renomear_categorias_coluna(df, nome_coluna):\n",
    "    \"\"\"\n",
    "    Renomeia as categorias em uma coluna específica do DataFrame\n",
    "    \"\"\"\n",
    "    df_copy = df.copy()\n",
    "    df_copy['field'] = df_copy['field'].map(traducoes).fillna(df_copy['field'])\n",
    "    return df_copy\n",
    "\n",
    "df_traduzido = renomear_categorias_coluna(df, 'categoria')"
   ]
  },
  {
   "cell_type": "code",
   "execution_count": null,
   "id": "e3aabf5c",
   "metadata": {},
   "outputs": [],
   "source": [
    "df_traduzido.head()"
   ]
  }
 ],
 "metadata": {
  "kernelspec": {
   "display_name": "Python 3",
   "language": "python",
   "name": "python3"
  },
  "language_info": {
   "codemirror_mode": {
    "name": "ipython",
    "version": 3
   },
   "file_extension": ".py",
   "mimetype": "text/x-python",
   "name": "python",
   "nbconvert_exporter": "python",
   "pygments_lexer": "ipython3",
   "version": "3.12.9"
  }
 },
 "nbformat": 4,
 "nbformat_minor": 5
}
